{
 "cells": [
  {
   "cell_type": "code",
   "execution_count": 1,
   "metadata": {},
   "outputs": [],
   "source": [
    "import pickle\n",
    "import cv2\n",
    "import numpy as np\n",
    "from matplotlib import pyplot as plt\n",
    "from sklearn.cluster import KMeans\n",
    "from sklearn import svm"
   ]
  },
  {
   "cell_type": "code",
   "execution_count": 2,
   "metadata": {},
   "outputs": [
    {
     "data": {
      "text/plain": [
       "'trainImgPerBatch = 50\\ntestImgPerBatch = 5'"
      ]
     },
     "execution_count": 2,
     "metadata": {},
     "output_type": "execute_result"
    }
   ],
   "source": [
    "nClusters = 128\n",
    "# we will get VLAD of size nClusters*128\n",
    "nComponents = 128\n",
    "'''svm_c = 1\n",
    "svm_gamma = 0.01\n",
    "svm_kernal = 'rbf' '''\n",
    "\n",
    "estimators = 1000\n",
    "\n",
    "datasetPath = './dataset/cifar-10-batches-py'\n",
    "vocabFile = 'vocab_'+str(nClusters)+'.sav'\n",
    "clsFile = 'cls.sav'\n",
    "trainBatch = 5\n",
    "'''trainImgPerBatch = 50\n",
    "testImgPerBatch = 5'''"
   ]
  },
  {
   "cell_type": "code",
   "execution_count": 3,
   "metadata": {},
   "outputs": [],
   "source": [
    "def getLabel(id):\n",
    "    txtLabels = ['airplane', 'automobile', 'bird', 'cat', 'deer', 'dog', 'frog', 'horse', 'ship', 'truck']\n",
    "    return txtLabels[id]"
   ]
  },
  {
   "cell_type": "code",
   "execution_count": 4,
   "metadata": {},
   "outputs": [],
   "source": [
    "def loadBatch(filePath):\n",
    "    with open(filePath, 'rb') as fo:\n",
    "        batchDict = pickle.load(fo, encoding='latin1')\n",
    "        nImgs = len(batchDict['data'])\n",
    "        imgs = batchDict['data'].reshape(nImgs,3,32,32).transpose(0, 2, 3, 1)\n",
    "        labels = batchDict['labels']\n",
    "    return (imgs,labels)"
   ]
  },
  {
   "cell_type": "code",
   "execution_count": 5,
   "metadata": {},
   "outputs": [],
   "source": [
    "def getDescriptors(img, extractor):\n",
    "    gray = cv2.cvtColor(img,cv2.COLOR_RGB2GRAY)\n",
    "    keypoints, descriptors = extractor.detectAndCompute(gray, None)\n",
    "    return descriptors"
   ]
  },
  {
   "cell_type": "code",
   "execution_count": 6,
   "metadata": {},
   "outputs": [],
   "source": [
    "def getBatchDesc(imgs):\n",
    "    descriptors = np.asarray([])\n",
    "    extractor = cv2.xfeatures2d.SIFT_create()\n",
    "    #i = 0\n",
    "    for img in imgs:\n",
    "        desc = getDescriptors(img,extractor)\n",
    "        if type(desc) == np.ndarray :\n",
    "            if descriptors.shape[0] == 0:\n",
    "                descriptors = desc\n",
    "            else:\n",
    "                descriptors = np.concatenate((descriptors, desc), axis=0)\n",
    "    return descriptors"
   ]
  },
  {
   "cell_type": "code",
   "execution_count": 7,
   "metadata": {},
   "outputs": [],
   "source": [
    "def getDatasetDesc():\n",
    "    descriptors = np.asarray([])\n",
    "    for batchId in range(1,trainBatch+1):\n",
    "        print('collecting batch ',batchId,'decriptors')\n",
    "        batchPath = datasetPath+'/'+'data_batch_'+str(batchId)\n",
    "        imgs,labels = loadBatch(batchPath)\n",
    "        #imgs = imgs[:trainImgPerBatch]              #--------------------------------------   \n",
    "        if descriptors.shape[0] == 0:\n",
    "            descriptors = getBatchDesc(imgs)\n",
    "        else:\n",
    "            descriptors = np.concatenate((descriptors, getBatchDesc(imgs)), axis=0)\n",
    "    return descriptors"
   ]
  },
  {
   "cell_type": "code",
   "execution_count": 8,
   "metadata": {},
   "outputs": [],
   "source": [
    "def getVocabularies():\n",
    "    descriptors = getDatasetDesc()\n",
    "    kmeans = KMeans(n_clusters = nClusters)\n",
    "    kmeans.fit(descriptors)\n",
    "    return kmeans"
   ]
  },
  {
   "cell_type": "code",
   "execution_count": 9,
   "metadata": {},
   "outputs": [],
   "source": [
    "def getVLAD(img,extractor,vocab):\n",
    "    descDim = 128 # 128 = dimention of descriptor\n",
    "    VLAD = [ [0]*descDim ]*nClusters \n",
    "    gray = cv2.cvtColor(img,cv2.COLOR_RGB2GRAY)\n",
    "    keypoints, descriptors = extractor.detectAndCompute(gray, None)\n",
    "    if type(descriptors) == np.ndarray:\n",
    "        pred = vocab.predict(descriptors)\n",
    "        \n",
    "        for i in range(descriptors.shape[0]):\n",
    "            relDist = descriptors[i] - vocab.cluster_centers_[pred[i]]\n",
    "            for j in range(descDim):\n",
    "                VLAD[pred[i]][j] = relDist[j]\n",
    "                \n",
    "        flattenVLAD = [ele for li_1d in VLAD for ele in li_1d]\n",
    "        return flattenVLAD\n",
    "    else:\n",
    "        return [ 0 ]*(descDim * nClusters)"
   ]
  },
  {
   "cell_type": "code",
   "execution_count": 10,
   "metadata": {},
   "outputs": [],
   "source": [
    "def getBatchVLAD(imgs,vocab):\n",
    "    batchBOK = []\n",
    "    extractor = cv2.xfeatures2d.SIFT_create()\n",
    "    for img in imgs:\n",
    "        bok = getVLAD(img,extractor,vocab)\n",
    "        batchBOK.append(bok)\n",
    "    return  np.asarray(batchBOK)"
   ]
  },
  {
   "cell_type": "code",
   "execution_count": 11,
   "metadata": {},
   "outputs": [],
   "source": [
    "def getTrainingDT(vocab):\n",
    "    dataset = np.asarray([])\n",
    "    labels = []\n",
    "    for batchId in range(1,trainBatch+1):\n",
    "        print('collecting batch ',str(batchId),' features ...')\n",
    "        batchPath = datasetPath+'/'+'data_batch_'+str(batchId)\n",
    "        imgs,labs = loadBatch(batchPath)\n",
    "        #imgs = imgs[:trainImgPerBatch]             #--------------------------------------\n",
    "        if dataset.shape[0] == 0:\n",
    "            dataset = getBatchVLAD(imgs,vocab)\n",
    "            labels = labs\n",
    "        else:\n",
    "            dataset = np.concatenate((dataset, getBatchVLAD(imgs,vocab)), axis=0)\n",
    "            labels.extend(labs)\n",
    "        #labels = labels[:trainImgPerBatch]         #--------------------------------------\n",
    "    return (dataset,np.asarray(labels))"
   ]
  },
  {
   "cell_type": "code",
   "execution_count": 12,
   "metadata": {},
   "outputs": [],
   "source": [
    "def getTestingDT(vocab):\n",
    "    batchPath = datasetPath+'/test_batch'\n",
    "    imgs,labels = loadBatch(batchPath)\n",
    "    #imgs = imgs[:testImgPerBatch]                 #--------------------------------------\n",
    "    #labels = labels[:testImgPerBatch]             #--------------------------------------\n",
    "    dataset = getBatchVLAD(imgs,vocab)\n",
    "    return (dataset,np.asarray(labels))"
   ]
  },
  {
   "cell_type": "code",
   "execution_count": 13,
   "metadata": {},
   "outputs": [],
   "source": [
    "vocab = getVocabularies()\n",
    "pickle.dump(vocab, open(vocabFile, 'wb'))\n",
    "\n",
    "#vocab = pickle.load(open(vocabFile, 'rb'))"
   ]
  },
  {
   "cell_type": "code",
   "execution_count": 14,
   "metadata": {},
   "outputs": [
    {
     "name": "stdout",
     "output_type": "stream",
     "text": [
      "collecting batch  1  features ...\n",
      "collecting batch  2  features ...\n",
      "collecting batch  3  features ...\n",
      "collecting batch  4  features ...\n",
      "collecting batch  5  features ...\n"
     ]
    }
   ],
   "source": [
    "dataset,labels = getTrainingDT(vocab)"
   ]
  },
  {
   "cell_type": "code",
   "execution_count": 15,
   "metadata": {},
   "outputs": [
    {
     "data": {
      "text/plain": [
       "\"loadData = np.loadtxt('vlad.csv',delimiter=',')\\nlabels = loadData[:,-1]\\ndataset = loadData[:,:-1]\""
      ]
     },
     "execution_count": 15,
     "metadata": {},
     "output_type": "execute_result"
    }
   ],
   "source": [
    "'''print('saving VLAD without PCA...')\n",
    "saveData = np.concatenate((dataset,np.asarray([labels]).T),axis=1)\n",
    "print(saveData.shape)\n",
    "np.savetxt('vlad.csv',saveData, delimiter=',',fmt='%8.4f')'''\n",
    "\n",
    "'''loadData = np.loadtxt('vlad.csv',delimiter=',')\n",
    "labels = loadData[:,-1]\n",
    "dataset = loadData[:,:-1]'''"
   ]
  },
  {
   "cell_type": "code",
   "execution_count": 16,
   "metadata": {},
   "outputs": [],
   "source": [
    "from sklearn.preprocessing import StandardScaler\n",
    "scaler = StandardScaler().fit(dataset)\n",
    "pickle.dump(scaler, open('scaler.sav', 'wb'))\n",
    "dataset = scaler.transform(dataset)"
   ]
  },
  {
   "cell_type": "code",
   "execution_count": 17,
   "metadata": {},
   "outputs": [],
   "source": [
    "from sklearn.decomposition import PCA\n",
    "pca = PCA(n_components=nComponents)\n",
    "pca.fit(dataset)\n",
    "pickle.dump(pca, open('pca.sav', 'wb'))\n",
    "priComTrain = pca.transform(dataset)"
   ]
  },
  {
   "cell_type": "code",
   "execution_count": 18,
   "metadata": {},
   "outputs": [
    {
     "name": "stdout",
     "output_type": "stream",
     "text": [
      "saving VLAD ...\n",
      "(50000, 129)\n"
     ]
    },
    {
     "data": {
      "text/plain": [
       "\"loadData = np.loadtxt('vlad.csv',delimiter=',')\\nlabels = loadData[:,-1]\\npriComTrain = loadData[:,:-1]\""
      ]
     },
     "execution_count": 18,
     "metadata": {},
     "output_type": "execute_result"
    }
   ],
   "source": [
    "print('saving VLAD ...')\n",
    "saveData = np.concatenate((priComTrain,np.asarray([labels]).T),axis=1)\n",
    "print(saveData.shape)\n",
    "np.savetxt('vlad_pca.csv',saveData, delimiter=',',fmt='%8.4f')\n",
    "\n",
    "'''loadData = np.loadtxt('vlad_pca.csv',delimiter=',')\n",
    "labels = loadData[:,-1]\n",
    "priComTrain = loadData[:,:-1]'''"
   ]
  },
  {
   "cell_type": "code",
   "execution_count": 19,
   "metadata": {},
   "outputs": [
    {
     "data": {
      "text/plain": [
       "'from sklearn.ensemble import RandomForestClassifier\\nmodel = RandomForestClassifier(n_estimators=estimators)'"
      ]
     },
     "execution_count": 19,
     "metadata": {},
     "output_type": "execute_result"
    }
   ],
   "source": [
    "#model = svm.SVC(C=10,kernel='rbf',gamma=0.01)\n",
    "#model = svm.SVC(C=svm_c,kernel=svm_kernal,gamma=svm_gamma)\n",
    "#model = svm.SVC(C=svm_c,kernel=svm_kernal)\n",
    "\n",
    "from sklearn.ensemble import RandomForestClassifier\n",
    "model = RandomForestClassifier(n_estimators=estimators)"
   ]
  },
  {
   "cell_type": "code",
   "execution_count": 20,
   "metadata": {},
   "outputs": [
    {
     "data": {
      "text/plain": [
       "'print(\"training started...\")\\nmodel.fit(priComTrain,labels)\\npickle.dump(model, open(clsFile, \\'wb\\'))'"
      ]
     },
     "execution_count": 20,
     "metadata": {},
     "output_type": "execute_result"
    }
   ],
   "source": [
    "print(\"training started...\")\n",
    "model.fit(priComTrain,labels)\n",
    "pickle.dump(model, open(clsFile, 'wb'))"
   ]
  },
  {
   "cell_type": "code",
   "execution_count": 21,
   "metadata": {},
   "outputs": [],
   "source": [
    "testDt,testLb = getTestingDT(vocab)"
   ]
  },
  {
   "cell_type": "code",
   "execution_count": 22,
   "metadata": {},
   "outputs": [],
   "source": [
    "#scaler = pickle.load(open('scaler.sav', 'rb'))\n",
    "testDt = scaler.transform(testDt)\n",
    "#pca = pickle.load(open('pca.sav', 'rb'))\n",
    "priComTest = pca.transform(testDt)"
   ]
  },
  {
   "cell_type": "code",
   "execution_count": 23,
   "metadata": {},
   "outputs": [
    {
     "name": "stdout",
     "output_type": "stream",
     "text": [
      "saving VLAD ...\n",
      "(10000, 129)\n"
     ]
    }
   ],
   "source": [
    "print('saving VLAD ...')\n",
    "saveData = np.concatenate((priComTest,np.asarray([testLb]).T),axis=1)\n",
    "print(saveData.shape)\n",
    "np.savetxt('vlad_test.csv',saveData, delimiter=',',fmt='%8.4f')\n",
    "\n",
    "'''loadData = np.loadtxt('vlad_test.csv',delimiter=',')\n",
    "testLb = loadData[:,-1]\n",
    "priComTest = loadData[:,:-1]'''"
   ]
  },
  {
   "cell_type": "code",
   "execution_count": 24,
   "metadata": {},
   "outputs": [
    {
     "data": {
      "text/plain": [
       "'#out = model.predict(testDt)\\nacc = model.score(priComTest,testLb)'"
      ]
     },
     "execution_count": 24,
     "metadata": {},
     "output_type": "execute_result"
    }
   ],
   "source": [
    "#out = model.predict(testDt)\n",
    "acc = model.score(priComTest,testLb)"
   ]
  },
  {
   "cell_type": "code",
   "execution_count": 25,
   "metadata": {},
   "outputs": [
    {
     "data": {
      "text/plain": [
       "'print(acc)'"
      ]
     },
     "execution_count": 25,
     "metadata": {},
     "output_type": "execute_result"
    }
   ],
   "source": [
    "'''print(acc)'''"
   ]
  }
 ],
 "metadata": {
  "kernelspec": {
   "display_name": "Python 3",
   "language": "python",
   "name": "python3"
  },
  "language_info": {
   "codemirror_mode": {
    "name": "ipython",
    "version": 3
   },
   "file_extension": ".py",
   "mimetype": "text/x-python",
   "name": "python",
   "nbconvert_exporter": "python",
   "pygments_lexer": "ipython3",
   "version": "3.7.3"
  }
 },
 "nbformat": 4,
 "nbformat_minor": 2
}
