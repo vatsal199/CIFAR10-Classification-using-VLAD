{
 "cells": [
  {
   "cell_type": "code",
   "execution_count": 22,
   "metadata": {},
   "outputs": [],
   "source": [
    "import pickle\n",
    "import cv2\n",
    "import numpy as np\n",
    "from matplotlib import pyplot as plt\n",
    "from sklearn.cluster import KMeans\n",
    "from sklearn import svm"
   ]
  },
  {
   "cell_type": "code",
   "execution_count": 23,
   "metadata": {},
   "outputs": [],
   "source": [
    "nClusters = 128\n",
    "# we will get VLAD of size nClusters*128\n",
    "nComponents = 128\n",
    "'''svm_c = 1\n",
    "svm_gamma = 0.01\n",
    "svm_kernal = 'rbf''''\n",
    "\n",
    "estimators = 400\n",
    "\n",
    "datasetPath = './dataset/cifar-10-batches-py'\n",
    "vocabFile = 'vocab_'+str(nClusters)+'.sav'\n",
    "clsFile = 'cls.sav'\n",
    "trainBatch = 5\n",
    "'''trainImgPerBatch = 50\n",
    "testImgPerBatch = 5'''"
   ]
  },
  {
   "cell_type": "code",
   "execution_count": 24,
   "metadata": {},
   "outputs": [],
   "source": [
    "def getLabel(id):\n",
    "    txtLabels = ['airplane', 'automobile', 'bird', 'cat', 'deer', 'dog', 'frog', 'horse', 'ship', 'truck']\n",
    "    return txtLabels[id]"
   ]
  },
  {
   "cell_type": "code",
   "execution_count": 25,
   "metadata": {},
   "outputs": [],
   "source": [
    "def loadBatch(filePath):\n",
    "    with open(filePath, 'rb') as fo:\n",
    "        batchDict = pickle.load(fo, encoding='latin1')\n",
    "        nImgs = len(batchDict['data'])\n",
    "        imgs = batchDict['data'].reshape(nImgs,3,32,32).transpose(0, 2, 3, 1)\n",
    "        labels = batchDict['labels']\n",
    "    return (imgs,labels)"
   ]
  },
  {
   "cell_type": "code",
   "execution_count": 26,
   "metadata": {},
   "outputs": [],
   "source": [
    "def getDescriptors(img, extractor):\n",
    "    gray = cv2.cvtColor(img,cv2.COLOR_RGB2GRAY)\n",
    "    keypoints, descriptors = extractor.detectAndCompute(gray, None)\n",
    "    return descriptors"
   ]
  },
  {
   "cell_type": "code",
   "execution_count": 27,
   "metadata": {},
   "outputs": [],
   "source": [
    "def getBatchDesc(imgs):\n",
    "    descriptors = np.asarray([])\n",
    "    extractor = cv2.xfeatures2d.SIFT_create()\n",
    "    #i = 0\n",
    "    for img in imgs:\n",
    "        desc = getDescriptors(img,extractor)\n",
    "        if type(desc) == np.ndarray :\n",
    "            if descriptors.shape[0] == 0:\n",
    "                descriptors = desc\n",
    "            else:\n",
    "                descriptors = np.concatenate((descriptors, desc), axis=0)\n",
    "    return descriptors"
   ]
  },
  {
   "cell_type": "code",
   "execution_count": 28,
   "metadata": {},
   "outputs": [],
   "source": [
    "def getDatasetDesc():\n",
    "    descriptors = np.asarray([])\n",
    "    for batchId in range(1,trainBatch+1):\n",
    "        print('collecting batch ',batchId,'decriptors')\n",
    "        batchPath = datasetPath+'/'+'data_batch_'+str(batchId)\n",
    "        imgs,labels = loadBatch(batchPath)\n",
    "        #imgs = imgs[:trainImgPerBatch]              #--------------------------------------   \n",
    "        if descriptors.shape[0] == 0:\n",
    "            descriptors = getBatchDesc(imgs)\n",
    "        else:\n",
    "            descriptors = np.concatenate((descriptors, getBatchDesc(imgs)), axis=0)\n",
    "    return descriptors"
   ]
  },
  {
   "cell_type": "code",
   "execution_count": 29,
   "metadata": {},
   "outputs": [],
   "source": [
    "def getVocabularies():\n",
    "    descriptors = getDatasetDesc()\n",
    "    kmeans = KMeans(n_clusters = nClusters)\n",
    "    kmeans.fit(descriptors)\n",
    "    return kmeans"
   ]
  },
  {
   "cell_type": "code",
   "execution_count": 30,
   "metadata": {},
   "outputs": [],
   "source": [
    "def getVLAD(img,extractor,vocab):\n",
    "    descDim = 128 # 128 = dimention of descriptor\n",
    "    VLAD = [ [0]*descDim ]*nClusters \n",
    "    gray = cv2.cvtColor(img,cv2.COLOR_RGB2GRAY)\n",
    "    keypoints, descriptors = extractor.detectAndCompute(gray, None)\n",
    "    if type(descriptors) == np.ndarray:\n",
    "        pred = vocab.predict(descriptors)\n",
    "        \n",
    "        for i in range(descriptors.shape[0]):\n",
    "            relDist = descriptors[0] - vocab.cluster_centers_[pred[0]]\n",
    "            for j in range(descDim):\n",
    "                VLAD[pred[0]][j] = relDist[j]\n",
    "                \n",
    "        flattenVLAD = [ele for li_1d in VLAD for ele in li_1d]\n",
    "            return flattenVLAD\n",
    "    else:\n",
    "        return [ 0 ]*(descDim * nClusters)"
   ]
  },
  {
   "cell_type": "code",
   "execution_count": 31,
   "metadata": {},
   "outputs": [],
   "source": [
    "def getBatchVLAD(imgs,vocab):\n",
    "    batchBOK = []\n",
    "    extractor = cv2.xfeatures2d.SIFT_create()\n",
    "    for img in imgs:\n",
    "        bok = getVLAD(img,extractor,vocab)\n",
    "        batchBOK.append(bok)\n",
    "    return  np.asarray(batchBOK)"
   ]
  },
  {
   "cell_type": "code",
   "execution_count": 32,
   "metadata": {},
   "outputs": [],
   "source": [
    "def getTrainingDT(vocab):\n",
    "    dataset = np.asarray([])\n",
    "    labels = []\n",
    "    for batchId in range(1,trainBatch+1):\n",
    "        print('collecting batch ',str(batchId),' features ...')\n",
    "        batchPath = datasetPath+'/'+'data_batch_'+str(batchId)\n",
    "        imgs,labs = loadBatch(batchPath)\n",
    "        #imgs = imgs[:trainImgPerBatch]             #--------------------------------------\n",
    "        if dataset.shape[0] == 0:\n",
    "            dataset = getBatchVLAD(imgs,vocab)\n",
    "            labels = labs\n",
    "        else:\n",
    "            dataset = np.concatenate((dataset, getBatchVLAD(imgs,vocab)), axis=0)\n",
    "            labels.extend(labs)\n",
    "        #labels = labels[:trainImgPerBatch]         #--------------------------------------\n",
    "    return (dataset,np.asarray(labels))"
   ]
  },
  {
   "cell_type": "code",
   "execution_count": 33,
   "metadata": {},
   "outputs": [],
   "source": [
    "def getTestingDT(vocab):\n",
    "    batchPath = datasetPath+'/test_batch'\n",
    "    imgs,labels = loadBatch(batchPath)\n",
    "    #imgs = imgs[:testImgPerBatch]                 #--------------------------------------\n",
    "    #labels = labels[:testImgPerBatch]             #--------------------------------------\n",
    "    dataset = getBatchVLAD(imgs,vocab)\n",
    "    return (dataset,np.asarray(labels))"
   ]
  },
  {
   "cell_type": "code",
   "execution_count": 34,
   "metadata": {},
   "outputs": [
    {
     "name": "stdout",
     "output_type": "stream",
     "text": [
      "collecting batch  1 decriptors\n"
     ]
    }
   ],
   "source": [
    "vocab = getVocabularies()\n",
    "pickle.dump(vocab, open(vocabFile, 'wb'))\n",
    "\n",
    "#vocab = pickle.load(open(vocabFile, 'rb'))"
   ]
  },
  {
   "cell_type": "code",
   "execution_count": 35,
   "metadata": {},
   "outputs": [
    {
     "name": "stdout",
     "output_type": "stream",
     "text": [
      "collecting batch  1  features ...\n"
     ]
    }
   ],
   "source": [
    "dataset,labels = getTrainingDT(vocab)"
   ]
  },
  {
   "cell_type": "code",
   "execution_count": null,
   "metadata": {},
   "outputs": [],
   "source": [
    "from sklearn.preprocessing import StandardScaler\n",
    "scaler = StandardScaler().fit(dataset)\n",
    "dataset = scaler.transform(dataset)"
   ]
  },
  {
   "cell_type": "code",
   "execution_count": 36,
   "metadata": {},
   "outputs": [],
   "source": [
    "from sklearn.decomposition import PCA\n",
    "pca = PCA(n_components=nComponents)\n",
    "priComTrain = pca.fit_transform(dataset)"
   ]
  },
  {
   "cell_type": "code",
   "execution_count": 37,
   "metadata": {},
   "outputs": [
    {
     "name": "stdout",
     "output_type": "stream",
     "text": [
      "saving VLAD ...\n"
     ]
    },
    {
     "data": {
      "text/plain": [
       "\"loadData = np.loadtxt('vlad.csv',delimiter=',')\\nlabels = loadData[:,-1]\\npriComTrain = loadData[:,:-1]\""
      ]
     },
     "execution_count": 37,
     "metadata": {},
     "output_type": "execute_result"
    }
   ],
   "source": [
    "print('saving VLAD ...')\n",
    "saveData = np.concatenate((priComTrain,np.asarray([labels]).T),axis=1)\n",
    "np.savetxt('vlad.csv',saveData, delimiter=',',fmt='%8.4f')\n",
    "\n",
    "'''loadData = np.loadtxt('vlad.csv',delimiter=',')\n",
    "labels = loadData[:,-1]\n",
    "priComTrain = loadData[:,:-1]'''"
   ]
  },
  {
   "cell_type": "code",
   "execution_count": 38,
   "metadata": {},
   "outputs": [
    {
     "name": "stdout",
     "output_type": "stream",
     "text": [
      "training started...\n"
     ]
    }
   ],
   "source": [
    "'''#model = svm.SVC(C=10,kernel='rbf',gamma=0.01)\n",
    "model = svm.SVC(C=svm_c,kernel=svm_kernal,gamma=svm_gamma)\n",
    "#model = svm.SVC(C=svm_c,kernel=svm_kernal)\n",
    "'''\n",
    "from sklearn.ensemble import RandomForestClassifier\n",
    "model = RandomForestClassifier(n_estimators=estimators)"
   ]
  },
  {
   "cell_type": "code",
   "execution_count": null,
   "metadata": {},
   "outputs": [],
   "source": [
    "print(\"training started...\")\n",
    "model.fit(priComTrain,labels)\n",
    "pickle.dump(model, open(clsFile, 'wb'))"
   ]
  },
  {
   "cell_type": "code",
   "execution_count": 39,
   "metadata": {},
   "outputs": [],
   "source": [
    "testDt,testLb = getTestingDT(vocab)"
   ]
  },
  {
   "cell_type": "code",
   "execution_count": null,
   "metadata": {},
   "outputs": [],
   "source": [
    "scaler = StandardScaler().fit(testDt)\n",
    "testDt = scaler.transform(testDt)\n",
    "priComTest = pca.fit_transform(testDt)"
   ]
  },
  {
   "cell_type": "code",
   "execution_count": 40,
   "metadata": {},
   "outputs": [],
   "source": [
    "#out = model.predict(testDt)\n",
    "acc = model.score(priComTest,testLb)"
   ]
  },
  {
   "cell_type": "code",
   "execution_count": 41,
   "metadata": {},
   "outputs": [
    {
     "name": "stdout",
     "output_type": "stream",
     "text": [
      "0.2\n"
     ]
    }
   ],
   "source": [
    "print(acc)"
   ]
  }
 ],
 "metadata": {
  "kernelspec": {
   "display_name": "Python 3",
   "language": "python",
   "name": "python3"
  },
  "language_info": {
   "codemirror_mode": {
    "name": "ipython",
    "version": 3
   },
   "file_extension": ".py",
   "mimetype": "text/x-python",
   "name": "python",
   "nbconvert_exporter": "python",
   "pygments_lexer": "ipython3",
   "version": "3.7.3"
  }
 },
 "nbformat": 4,
 "nbformat_minor": 2
}
